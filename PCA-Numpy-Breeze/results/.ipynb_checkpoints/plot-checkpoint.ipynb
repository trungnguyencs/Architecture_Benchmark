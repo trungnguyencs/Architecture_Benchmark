{
 "cells": [
  {
   "cell_type": "code",
   "execution_count": 1,
   "metadata": {},
   "outputs": [],
   "source": [
    "import matplotlib.pyplot as plt\n",
    "import pandas as pd "
   ]
  },
  {
   "cell_type": "code",
   "execution_count": null,
   "metadata": {},
   "outputs": [],
   "source": [
    "py_dimmensions = {4:6.333825354, 8:6.398121999, 16:8.572502396, 32:12.582088585, 64:20.314978511, 128:36.398928026}\n",
    "py_samples = {1000:0.917522254, 2000:1.186010636, 4000:1.721292353, 8000:3.235534791, 16000:11.309076611, 32000:36.398928026}\n",
    "scala_dimmensions = {4:20.798034210, 8:21.143162595, 16:21.962111205, 32:24.024125482, 64:29.074358590, 128:41.807105962}\n",
    "scala_samples = {1000:21.181930089, 2000:21.877403884, 4000:23.273996323, 8000:26.912044470, 16000:31.895235254, 32000:41.807105962}"
   ]
  }
 ],
 "metadata": {
  "kernelspec": {
   "display_name": "Python 2",
   "language": "python",
   "name": "python2"
  },
  "language_info": {
   "codemirror_mode": {
    "name": "ipython",
    "version": 2
   },
   "file_extension": ".py",
   "mimetype": "text/x-python",
   "name": "python",
   "nbconvert_exporter": "python",
   "pygments_lexer": "ipython2",
   "version": "2.7.18"
  }
 },
 "nbformat": 4,
 "nbformat_minor": 2
}
